{
 "cells": [
  {
   "cell_type": "code",
   "execution_count": 1,
   "metadata": {},
   "outputs": [
    {
     "name": "stdout",
     "output_type": "stream",
     "text": [
      "Your Account Succesfully Created !, share this code 'Bagus' to your friend to get some benefit\n",
      "Your Account Succesfully Created !, share this code 'Ana' to your friend to get some benefit\n"
     ]
    }
   ],
   "source": [
    "from pacflix import pacflix\n",
    "\n",
    "bagus = pacflix(\"Bagus\")\n",
    "ana = pacflix(\"Ana\")"
   ]
  },
  {
   "cell_type": "code",
   "execution_count": 2,
   "metadata": {},
   "outputs": [
    {
     "data": {
      "text/plain": [
       "['Bagus', 'Ana']"
      ]
     },
     "execution_count": 2,
     "metadata": {},
     "output_type": "execute_result"
    }
   ],
   "source": [
    "pacflix.list_of_referral_code"
   ]
  },
  {
   "cell_type": "code",
   "execution_count": 3,
   "metadata": {},
   "outputs": [
    {
     "name": "stdout",
     "output_type": "stream",
     "text": [
      "Your are selected standard plan, price 160000\n"
     ]
    }
   ],
   "source": [
    "bagus.purchase(\"Standard Plan\", None, 20)"
   ]
  },
  {
   "cell_type": "code",
   "execution_count": 4,
   "metadata": {},
   "outputs": [
    {
     "name": "stdout",
     "output_type": "stream",
     "text": [
      "Your are selected basic plan with referral code, price 115200.0\n"
     ]
    }
   ],
   "source": [
    "ana.purchase(\"Basic Plan\", \"Bagus\", 20)"
   ]
  },
  {
   "cell_type": "code",
   "execution_count": 5,
   "metadata": {},
   "outputs": [
    {
     "name": "stdout",
     "output_type": "stream",
     "text": [
      "your current plan is Basic Plan\n",
      "start subs at 2024-02-06 20:53:17.053526\n",
      "end subs at 2025-10-06 20:53:17.053526\n"
     ]
    }
   ],
   "source": [
    "ana.check_plan()"
   ]
  },
  {
   "cell_type": "code",
   "execution_count": 6,
   "metadata": {},
   "outputs": [
    {
     "name": "stdout",
     "output_type": "stream",
     "text": [
      "Your Account Succesfully Created !, share this code 'Jati' to your friend to get some benefit\n"
     ]
    }
   ],
   "source": [
    "jati = pacflix('Jati')"
   ]
  },
  {
   "cell_type": "code",
   "execution_count": 7,
   "metadata": {},
   "outputs": [
    {
     "name": "stdout",
     "output_type": "stream",
     "text": [
      "upgrade  to Premium Plan, price 100000.0\n",
      "upgrade  to Premium Plan, price100000.0\n"
     ]
    }
   ],
   "source": [
    "ana.upgrade_plan(\"Premium Plan\")\n",
    "bagus.upgrade_plan('Premium Plan')"
   ]
  }
 ],
 "metadata": {
  "kernelspec": {
   "display_name": "Python 3",
   "language": "python",
   "name": "python3"
  },
  "language_info": {
   "codemirror_mode": {
    "name": "ipython",
    "version": 3
   },
   "file_extension": ".py",
   "mimetype": "text/x-python",
   "name": "python",
   "nbconvert_exporter": "python",
   "pygments_lexer": "ipython3",
   "version": "3.11.7"
  }
 },
 "nbformat": 4,
 "nbformat_minor": 2
}
